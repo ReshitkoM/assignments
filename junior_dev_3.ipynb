{
  "nbformat": 4,
  "nbformat_minor": 0,
  "metadata": {
    "colab": {
      "name": "yndx3.ipynb",
      "provenance": [],
      "collapsed_sections": []
    },
    "kernelspec": {
      "name": "python3",
      "display_name": "Python 3"
    },
    "language_info": {
      "name": "python"
    }
  },
  "cells": [
    {
      "cell_type": "markdown",
      "source": [
        "Написать программу, которая шлёт в некоторый канал в Телеграмме последнюю новость с сайта https://vc.ru\n",
        "Условие: в коде не должно быть токенов.\n"
      ],
      "metadata": {
        "id": "_q-gqKNEL2Hr"
      }
    },
    {
      "cell_type": "code",
      "source": [
        "import requests\n",
        "from bs4 import BeautifulSoup\n",
        "from datetime import datetime"
      ],
      "metadata": {
        "id": "UnDIH3r39T5P"
      },
      "execution_count": 50,
      "outputs": []
    },
    {
      "cell_type": "code",
      "source": [
        "from requests.models import HTTPError\n",
        "\n",
        "\n",
        "def parse_site():\n",
        "    r = requests.get('https://vc.ru/new')\n",
        "    if(r.status_code != 200):\n",
        "        raise HTTPError()\n",
        "\n",
        "    soup = BeautifulSoup(r.text)\n",
        "    news = soup.find_all('a', {'class':\"content-header__item content-header-number\"})\n",
        "    res = []\n",
        "    for n in news:\n",
        "        link = n.get('href')\n",
        "        #убираем таиймзому из времени\n",
        "        timeStr = n.find('time').get('title').split()\n",
        "        time = datetime.strptime(timeStr[0] + timeStr[1], '%d.%m.%Y%H:%M:%S')\n",
        "        res.append([time, link])\n",
        "\n",
        "    res.sort(key=lambda x:x[0], reverse=True)\n",
        "    return res[0]"
      ],
      "metadata": {
        "id": "V0JPnkBb8A1o"
      },
      "execution_count": 51,
      "outputs": []
    },
    {
      "cell_type": "code",
      "source": [
        "r = parse_site()"
      ],
      "metadata": {
        "id": "R-Ms2dfx9fdu"
      },
      "execution_count": 52,
      "outputs": []
    },
    {
      "cell_type": "code",
      "source": [
        "r"
      ],
      "metadata": {
        "colab": {
          "base_uri": "https://localhost:8080/"
        },
        "id": "a9VYRJc1993W",
        "outputId": "534280a8-6605-4acd-bfcd-de6a46474f2e"
      },
      "execution_count": 53,
      "outputs": [
        {
          "output_type": "execute_result",
          "data": {
            "text/plain": [
              "[datetime.datetime(2022, 3, 27, 16, 43, 5),\n",
              " 'https://vc.ru/design/388516-skolko-zarabatyvayut-barking-store-ovd-info-i-motuznaya-na-dizayne-i-prodazhe-svoego-mercha']"
            ]
          },
          "metadata": {},
          "execution_count": 53
        }
      ]
    },
    {
      "cell_type": "code",
      "source": [
        "api_id = input('Enter api_id: ')"
      ],
      "metadata": {
        "id": "svEzuHhLD6Bc"
      },
      "execution_count": null,
      "outputs": []
    },
    {
      "cell_type": "code",
      "source": [
        "api_hash = input('Enter api_hash: ')"
      ],
      "metadata": {
        "id": "FssHpbfnEGQq"
      },
      "execution_count": null,
      "outputs": []
    },
    {
      "cell_type": "code",
      "source": [
        "phone = input('Enter phone: ')"
      ],
      "metadata": {
        "id": "mSqq4sxdEOaU"
      },
      "execution_count": null,
      "outputs": []
    },
    {
      "cell_type": "code",
      "source": [
        "!pip install python-telegram"
      ],
      "metadata": {
        "colab": {
          "base_uri": "https://localhost:8080/"
        },
        "id": "wmSej0dJETAc",
        "outputId": "8cb9cde0-2087-4fc8-d420-2109bd4d6f8e"
      },
      "execution_count": 42,
      "outputs": [
        {
          "output_type": "stream",
          "name": "stdout",
          "text": [
            "Collecting python-telegram\n",
            "  Downloading python-telegram-0.15.0.tar.gz (14.9 MB)\n",
            "\u001b[K     |████████████████████████████████| 14.9 MB 8.8 MB/s \n",
            "\u001b[?25hBuilding wheels for collected packages: python-telegram\n",
            "  Building wheel for python-telegram (setup.py) ... \u001b[?25l\u001b[?25hdone\n",
            "  Created wheel for python-telegram: filename=python_telegram-0.15.0-py3-none-any.whl size=15043097 sha256=1cfc9610dc6cf08d03d12461c5bb47c4ad00749bd1b9d796a991e7e26a9dbb4f\n",
            "  Stored in directory: /root/.cache/pip/wheels/3b/2b/63/98ab0867fb5a63539b3b2426c246bf93adc87511d84b501603\n",
            "Successfully built python-telegram\n",
            "Installing collected packages: python-telegram\n",
            "Successfully installed python-telegram-0.15.0\n"
          ]
        }
      ]
    },
    {
      "cell_type": "code",
      "source": [
        "from telegram.client import Telegram\n",
        "\n",
        "\n",
        "#this requires building tdlib https://github.com/tdlib/td#building , so can't run it here\n",
        "#https://github.com/alexander-akhmetov/python-telegram/blob/master/examples/send_message.py\n",
        "def send_msg(api_id, api_hash, phone, chat_id, text):\n",
        "    tg = Telegram(\n",
        "        api_id=api_id,\n",
        "        api_hash=api_hash,\n",
        "        phone=phone,\n",
        "        database_encryption_key='tmpval',\n",
        "    )\n",
        "    tg.login()\n",
        "    result = tg.get_chats()\n",
        "    result.wait()\n",
        "\n",
        "    if result.error:\n",
        "        print(f'get chats error: {result.error_info}')\n",
        "    else:\n",
        "        print(f'chats: {result.update}')\n",
        "\n",
        "    result = tg.send_message(\n",
        "        chat_id=chat_id,\n",
        "        text=text,\n",
        "    )\n",
        "\n",
        "    result.wait()\n",
        "    if result.error:\n",
        "        print(f'send message error: {result.error_info}')\n",
        "    else:\n",
        "        print(f'message has been sent: {result.update}')\n",
        "\n",
        "    tg.stop()"
      ],
      "metadata": {
        "id": "SK98BOuZE2kA"
      },
      "execution_count": null,
      "outputs": []
    }
  ]
}